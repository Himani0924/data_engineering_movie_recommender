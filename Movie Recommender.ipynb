{
 "cells": [
  {
   "cell_type": "code",
   "execution_count": 1,
   "id": "fb97e3f3",
   "metadata": {},
   "outputs": [],
   "source": [
    "import numpy as np\n",
    "import pandas as pd\n",
    "import matplotlib.pyplot as plt\n",
    "import seaborn as sns\n",
    "from sklearn.feature_extraction.text import TfidfVectorizer\n",
    "from sklearn.metrics.pairwise import cosine_similarity\n",
    "import warnings\n",
    "warnings.filterwarnings('ignore')"
   ]
  },
  {
   "cell_type": "code",
   "execution_count": 2,
   "id": "844cb75f",
   "metadata": {},
   "outputs": [],
   "source": [
    "movie_df = pd.read_csv(\"movies.csv\")\n",
    "movie_keywords = pd.read_csv(\"keywords.csv\")\n",
    "movie_credits = pd.read_csv(\"credits.csv\")"
   ]
  },
  {
   "cell_type": "code",
   "execution_count": 3,
   "id": "96443859",
   "metadata": {},
   "outputs": [
    {
     "data": {
      "text/html": [
       "<div>\n",
       "<style scoped>\n",
       "    .dataframe tbody tr th:only-of-type {\n",
       "        vertical-align: middle;\n",
       "    }\n",
       "\n",
       "    .dataframe tbody tr th {\n",
       "        vertical-align: top;\n",
       "    }\n",
       "\n",
       "    .dataframe thead th {\n",
       "        text-align: right;\n",
       "    }\n",
       "</style>\n",
       "<table border=\"1\" class=\"dataframe\">\n",
       "  <thead>\n",
       "    <tr style=\"text-align: right;\">\n",
       "      <th></th>\n",
       "      <th>id</th>\n",
       "      <th>original_title</th>\n",
       "      <th>overview</th>\n",
       "      <th>genres</th>\n",
       "    </tr>\n",
       "  </thead>\n",
       "  <tbody>\n",
       "    <tr>\n",
       "      <th>0</th>\n",
       "      <td>862</td>\n",
       "      <td>Toy Story</td>\n",
       "      <td>Led by Woody, Andy's toys live happily in his ...</td>\n",
       "      <td>[{'id': 16, 'name': 'Animation'}, {'id': 35, '...</td>\n",
       "    </tr>\n",
       "    <tr>\n",
       "      <th>1</th>\n",
       "      <td>8844</td>\n",
       "      <td>Jumanji</td>\n",
       "      <td>When siblings Judy and Peter discover an encha...</td>\n",
       "      <td>[{'id': 12, 'name': 'Adventure'}, {'id': 14, '...</td>\n",
       "    </tr>\n",
       "    <tr>\n",
       "      <th>2</th>\n",
       "      <td>949</td>\n",
       "      <td>Heat</td>\n",
       "      <td>Obsessive master thief, Neil McCauley leads a ...</td>\n",
       "      <td>[{'id': 28, 'name': 'Action'}, {'id': 80, 'nam...</td>\n",
       "    </tr>\n",
       "    <tr>\n",
       "      <th>3</th>\n",
       "      <td>710</td>\n",
       "      <td>GoldenEye</td>\n",
       "      <td>James Bond must unmask the mysterious head of ...</td>\n",
       "      <td>[{'id': 12, 'name': 'Adventure'}, {'id': 28, '...</td>\n",
       "    </tr>\n",
       "    <tr>\n",
       "      <th>4</th>\n",
       "      <td>524</td>\n",
       "      <td>Casino</td>\n",
       "      <td>The life of the gambling paradise ‚Äì Las Vega...</td>\n",
       "      <td>[{'id': 18, 'name': 'Drama'}, {'id': 80, 'name...</td>\n",
       "    </tr>\n",
       "  </tbody>\n",
       "</table>\n",
       "</div>"
      ],
      "text/plain": [
       "     id original_title                                           overview  \\\n",
       "0   862      Toy Story  Led by Woody, Andy's toys live happily in his ...   \n",
       "1  8844        Jumanji  When siblings Judy and Peter discover an encha...   \n",
       "2   949           Heat  Obsessive master thief, Neil McCauley leads a ...   \n",
       "3   710      GoldenEye  James Bond must unmask the mysterious head of ...   \n",
       "4   524         Casino  The life of the gambling paradise ‚Äì Las Vega...   \n",
       "\n",
       "                                              genres  \n",
       "0  [{'id': 16, 'name': 'Animation'}, {'id': 35, '...  \n",
       "1  [{'id': 12, 'name': 'Adventure'}, {'id': 14, '...  \n",
       "2  [{'id': 28, 'name': 'Action'}, {'id': 80, 'nam...  \n",
       "3  [{'id': 12, 'name': 'Adventure'}, {'id': 28, '...  \n",
       "4  [{'id': 18, 'name': 'Drama'}, {'id': 80, 'name...  "
      ]
     },
     "execution_count": 3,
     "metadata": {},
     "output_type": "execute_result"
    }
   ],
   "source": [
    "movie_df = movie_df[['id','original_title','overview','genres']]\n",
    "movie_df.head(5)"
   ]
  },
  {
   "cell_type": "code",
   "execution_count": 4,
   "id": "061a5569",
   "metadata": {},
   "outputs": [],
   "source": [
    "movie_df[\"title\"] = movie_df[\"original_title\"].copy()\n",
    "movie_df.reset_index(inplace=True, drop=True)"
   ]
  },
  {
   "cell_type": "code",
   "execution_count": 5,
   "id": "ea8cd1f8",
   "metadata": {},
   "outputs": [
    {
     "data": {
      "text/html": [
       "<div>\n",
       "<style scoped>\n",
       "    .dataframe tbody tr th:only-of-type {\n",
       "        vertical-align: middle;\n",
       "    }\n",
       "\n",
       "    .dataframe tbody tr th {\n",
       "        vertical-align: top;\n",
       "    }\n",
       "\n",
       "    .dataframe thead th {\n",
       "        text-align: right;\n",
       "    }\n",
       "</style>\n",
       "<table border=\"1\" class=\"dataframe\">\n",
       "  <thead>\n",
       "    <tr style=\"text-align: right;\">\n",
       "      <th></th>\n",
       "      <th>id</th>\n",
       "      <th>keywords</th>\n",
       "    </tr>\n",
       "  </thead>\n",
       "  <tbody>\n",
       "    <tr>\n",
       "      <th>0</th>\n",
       "      <td>862</td>\n",
       "      <td>[{'id': 931, 'name': 'jealousy'}, {'id': 4290,...</td>\n",
       "    </tr>\n",
       "    <tr>\n",
       "      <th>1</th>\n",
       "      <td>8844</td>\n",
       "      <td>[{'id': 10090, 'name': 'board game'}, {'id': 1...</td>\n",
       "    </tr>\n",
       "    <tr>\n",
       "      <th>2</th>\n",
       "      <td>15602</td>\n",
       "      <td>[{'id': 1495, 'name': 'fishing'}, {'id': 12392...</td>\n",
       "    </tr>\n",
       "    <tr>\n",
       "      <th>3</th>\n",
       "      <td>31357</td>\n",
       "      <td>[{'id': 818, 'name': 'based on novel'}, {'id':...</td>\n",
       "    </tr>\n",
       "    <tr>\n",
       "      <th>4</th>\n",
       "      <td>11862</td>\n",
       "      <td>[{'id': 1009, 'name': 'baby'}, {'id': 1599, 'n...</td>\n",
       "    </tr>\n",
       "  </tbody>\n",
       "</table>\n",
       "</div>"
      ],
      "text/plain": [
       "      id                                           keywords\n",
       "0    862  [{'id': 931, 'name': 'jealousy'}, {'id': 4290,...\n",
       "1   8844  [{'id': 10090, 'name': 'board game'}, {'id': 1...\n",
       "2  15602  [{'id': 1495, 'name': 'fishing'}, {'id': 12392...\n",
       "3  31357  [{'id': 818, 'name': 'based on novel'}, {'id':...\n",
       "4  11862  [{'id': 1009, 'name': 'baby'}, {'id': 1599, 'n..."
      ]
     },
     "execution_count": 5,
     "metadata": {},
     "output_type": "execute_result"
    }
   ],
   "source": [
    "movie_keywords.head(5)"
   ]
  },
  {
   "cell_type": "code",
   "execution_count": 6,
   "id": "16f7b1d1",
   "metadata": {},
   "outputs": [
    {
     "data": {
      "text/html": [
       "<div>\n",
       "<style scoped>\n",
       "    .dataframe tbody tr th:only-of-type {\n",
       "        vertical-align: middle;\n",
       "    }\n",
       "\n",
       "    .dataframe tbody tr th {\n",
       "        vertical-align: top;\n",
       "    }\n",
       "\n",
       "    .dataframe thead th {\n",
       "        text-align: right;\n",
       "    }\n",
       "</style>\n",
       "<table border=\"1\" class=\"dataframe\">\n",
       "  <thead>\n",
       "    <tr style=\"text-align: right;\">\n",
       "      <th></th>\n",
       "      <th>cast</th>\n",
       "      <th>crew</th>\n",
       "      <th>id</th>\n",
       "    </tr>\n",
       "  </thead>\n",
       "  <tbody>\n",
       "    <tr>\n",
       "      <th>0</th>\n",
       "      <td>[{'cast_id': 14, 'character': 'Woody (voice)',...</td>\n",
       "      <td>[{'credit_id': '52fe4284c3a36847f8024f49', 'de...</td>\n",
       "      <td>862</td>\n",
       "    </tr>\n",
       "    <tr>\n",
       "      <th>1</th>\n",
       "      <td>[{'cast_id': 1, 'character': 'Alan Parrish', '...</td>\n",
       "      <td>[{'credit_id': '52fe44bfc3a36847f80a7cd1', 'de...</td>\n",
       "      <td>8844</td>\n",
       "    </tr>\n",
       "    <tr>\n",
       "      <th>2</th>\n",
       "      <td>[{'cast_id': 25, 'character': 'Lt. Vincent Han...</td>\n",
       "      <td>[{'credit_id': '52fe4292c3a36847f802916d', 'de...</td>\n",
       "      <td>949</td>\n",
       "    </tr>\n",
       "    <tr>\n",
       "      <th>3</th>\n",
       "      <td>[{'cast_id': 1, 'character': 'James Bond', 'cr...</td>\n",
       "      <td>[{'credit_id': '52fe426ec3a36847f801e14b', 'de...</td>\n",
       "      <td>710</td>\n",
       "    </tr>\n",
       "    <tr>\n",
       "      <th>4</th>\n",
       "      <td>[{'cast_id': 4, 'character': \"Sam 'Ace' Rothst...</td>\n",
       "      <td>[{'credit_id': '52fe424dc3a36847f80139cd', 'de...</td>\n",
       "      <td>524</td>\n",
       "    </tr>\n",
       "  </tbody>\n",
       "</table>\n",
       "</div>"
      ],
      "text/plain": [
       "                                                cast  \\\n",
       "0  [{'cast_id': 14, 'character': 'Woody (voice)',...   \n",
       "1  [{'cast_id': 1, 'character': 'Alan Parrish', '...   \n",
       "2  [{'cast_id': 25, 'character': 'Lt. Vincent Han...   \n",
       "3  [{'cast_id': 1, 'character': 'James Bond', 'cr...   \n",
       "4  [{'cast_id': 4, 'character': \"Sam 'Ace' Rothst...   \n",
       "\n",
       "                                                crew    id  \n",
       "0  [{'credit_id': '52fe4284c3a36847f8024f49', 'de...   862  \n",
       "1  [{'credit_id': '52fe44bfc3a36847f80a7cd1', 'de...  8844  \n",
       "2  [{'credit_id': '52fe4292c3a36847f802916d', 'de...   949  \n",
       "3  [{'credit_id': '52fe426ec3a36847f801e14b', 'de...   710  \n",
       "4  [{'credit_id': '52fe424dc3a36847f80139cd', 'de...   524  "
      ]
     },
     "execution_count": 6,
     "metadata": {},
     "output_type": "execute_result"
    }
   ],
   "source": [
    "movie_credits.head()"
   ]
  },
  {
   "cell_type": "code",
   "execution_count": 7,
   "id": "708f73f1",
   "metadata": {},
   "outputs": [],
   "source": [
    "movie_df[\"id\"] = movie_df[\"id\"].astype(int)\n",
    "df = pd.merge(movie_df, movie_keywords, on=\"id\")"
   ]
  },
  {
   "cell_type": "code",
   "execution_count": 8,
   "id": "56896f60",
   "metadata": {},
   "outputs": [],
   "source": [
    "df = pd.merge(df, movie_credits, on=\"id\")"
   ]
  },
  {
   "cell_type": "code",
   "execution_count": 9,
   "id": "b561d3e4",
   "metadata": {},
   "outputs": [
    {
     "data": {
      "text/plain": [
       "id                0\n",
       "original_title    0\n",
       "overview          0\n",
       "genres            0\n",
       "title             0\n",
       "keywords          0\n",
       "cast              0\n",
       "crew              0\n",
       "dtype: int64"
      ]
     },
     "execution_count": 9,
     "metadata": {},
     "output_type": "execute_result"
    }
   ],
   "source": [
    "df.isna().sum()"
   ]
  },
  {
   "cell_type": "code",
   "execution_count": 10,
   "id": "3f2b80ca",
   "metadata": {},
   "outputs": [],
   "source": [
    "df[\"overview\"] = df[\"overview\"].fillna(\"[]\")"
   ]
  },
  {
   "cell_type": "code",
   "execution_count": 11,
   "id": "c3ba83ac",
   "metadata": {},
   "outputs": [],
   "source": [
    "df[\"genres\"] = df[\"genres\"].apply(lambda x: [i[\"name\"] for i in eval(x)])\n",
    "df[\"genres\"] = df[\"genres\"].apply(lambda x: ' '.join([i.replace(\" \",\"\") for i in x]))"
   ]
  },
  {
   "cell_type": "code",
   "execution_count": 12,
   "id": "99b38b3a",
   "metadata": {},
   "outputs": [],
   "source": [
    "df[\"keywords\"] = df[\"keywords\"].apply(lambda x: [i[\"name\"] for i in eval(x)])\n",
    "df[\"keywords\"] = df[\"keywords\"].apply(lambda x: ' '.join([i.replace(\" \",\"\") for i in x]))"
   ]
  },
  {
   "cell_type": "code",
   "execution_count": 13,
   "id": "7a41e75d",
   "metadata": {},
   "outputs": [
    {
     "data": {
      "text/html": [
       "<div>\n",
       "<style scoped>\n",
       "    .dataframe tbody tr th:only-of-type {\n",
       "        vertical-align: middle;\n",
       "    }\n",
       "\n",
       "    .dataframe tbody tr th {\n",
       "        vertical-align: top;\n",
       "    }\n",
       "\n",
       "    .dataframe thead th {\n",
       "        text-align: right;\n",
       "    }\n",
       "</style>\n",
       "<table border=\"1\" class=\"dataframe\">\n",
       "  <thead>\n",
       "    <tr style=\"text-align: right;\">\n",
       "      <th></th>\n",
       "      <th>id</th>\n",
       "      <th>original_title</th>\n",
       "      <th>overview</th>\n",
       "      <th>genres</th>\n",
       "      <th>title</th>\n",
       "      <th>keywords</th>\n",
       "      <th>cast</th>\n",
       "      <th>crew</th>\n",
       "    </tr>\n",
       "  </thead>\n",
       "  <tbody>\n",
       "    <tr>\n",
       "      <th>0</th>\n",
       "      <td>862</td>\n",
       "      <td>Toy Story</td>\n",
       "      <td>Led by Woody, Andy's toys live happily in his ...</td>\n",
       "      <td>Animation Comedy Family</td>\n",
       "      <td>Toy Story</td>\n",
       "      <td>jealousy toy boy friendship friends rivalry bo...</td>\n",
       "      <td>[{'cast_id': 14, 'character': 'Woody (voice)',...</td>\n",
       "      <td>[{'credit_id': '52fe4284c3a36847f8024f49', 'de...</td>\n",
       "    </tr>\n",
       "    <tr>\n",
       "      <th>1</th>\n",
       "      <td>8844</td>\n",
       "      <td>Jumanji</td>\n",
       "      <td>When siblings Judy and Peter discover an encha...</td>\n",
       "      <td>Adventure Fantasy Family</td>\n",
       "      <td>Jumanji</td>\n",
       "      <td>boardgame disappearance basedonchildren'sbook ...</td>\n",
       "      <td>[{'cast_id': 1, 'character': 'Alan Parrish', '...</td>\n",
       "      <td>[{'credit_id': '52fe44bfc3a36847f80a7cd1', 'de...</td>\n",
       "    </tr>\n",
       "    <tr>\n",
       "      <th>2</th>\n",
       "      <td>949</td>\n",
       "      <td>Heat</td>\n",
       "      <td>Obsessive master thief, Neil McCauley leads a ...</td>\n",
       "      <td>Action Crime Drama Thriller</td>\n",
       "      <td>Heat</td>\n",
       "      <td>robbery detective bank obsession chase shootin...</td>\n",
       "      <td>[{'cast_id': 25, 'character': 'Lt. Vincent Han...</td>\n",
       "      <td>[{'credit_id': '52fe4292c3a36847f802916d', 'de...</td>\n",
       "    </tr>\n",
       "    <tr>\n",
       "      <th>3</th>\n",
       "      <td>710</td>\n",
       "      <td>GoldenEye</td>\n",
       "      <td>James Bond must unmask the mysterious head of ...</td>\n",
       "      <td>Adventure Action Thriller</td>\n",
       "      <td>GoldenEye</td>\n",
       "      <td>cuba falselyaccused secretidentity computervir...</td>\n",
       "      <td>[{'cast_id': 1, 'character': 'James Bond', 'cr...</td>\n",
       "      <td>[{'credit_id': '52fe426ec3a36847f801e14b', 'de...</td>\n",
       "    </tr>\n",
       "    <tr>\n",
       "      <th>4</th>\n",
       "      <td>524</td>\n",
       "      <td>Casino</td>\n",
       "      <td>The life of the gambling paradise ‚Äì Las Vega...</td>\n",
       "      <td>Drama Crime</td>\n",
       "      <td>Casino</td>\n",
       "      <td>poker drugabuse 1970s overdose illegalprostitu...</td>\n",
       "      <td>[{'cast_id': 4, 'character': \"Sam 'Ace' Rothst...</td>\n",
       "      <td>[{'credit_id': '52fe424dc3a36847f80139cd', 'de...</td>\n",
       "    </tr>\n",
       "  </tbody>\n",
       "</table>\n",
       "</div>"
      ],
      "text/plain": [
       "     id original_title                                           overview  \\\n",
       "0   862      Toy Story  Led by Woody, Andy's toys live happily in his ...   \n",
       "1  8844        Jumanji  When siblings Judy and Peter discover an encha...   \n",
       "2   949           Heat  Obsessive master thief, Neil McCauley leads a ...   \n",
       "3   710      GoldenEye  James Bond must unmask the mysterious head of ...   \n",
       "4   524         Casino  The life of the gambling paradise ‚Äì Las Vega...   \n",
       "\n",
       "                        genres      title  \\\n",
       "0      Animation Comedy Family  Toy Story   \n",
       "1     Adventure Fantasy Family    Jumanji   \n",
       "2  Action Crime Drama Thriller       Heat   \n",
       "3    Adventure Action Thriller  GoldenEye   \n",
       "4                  Drama Crime     Casino   \n",
       "\n",
       "                                            keywords  \\\n",
       "0  jealousy toy boy friendship friends rivalry bo...   \n",
       "1  boardgame disappearance basedonchildren'sbook ...   \n",
       "2  robbery detective bank obsession chase shootin...   \n",
       "3  cuba falselyaccused secretidentity computervir...   \n",
       "4  poker drugabuse 1970s overdose illegalprostitu...   \n",
       "\n",
       "                                                cast  \\\n",
       "0  [{'cast_id': 14, 'character': 'Woody (voice)',...   \n",
       "1  [{'cast_id': 1, 'character': 'Alan Parrish', '...   \n",
       "2  [{'cast_id': 25, 'character': 'Lt. Vincent Han...   \n",
       "3  [{'cast_id': 1, 'character': 'James Bond', 'cr...   \n",
       "4  [{'cast_id': 4, 'character': \"Sam 'Ace' Rothst...   \n",
       "\n",
       "                                                crew  \n",
       "0  [{'credit_id': '52fe4284c3a36847f8024f49', 'de...  \n",
       "1  [{'credit_id': '52fe44bfc3a36847f80a7cd1', 'de...  \n",
       "2  [{'credit_id': '52fe4292c3a36847f802916d', 'de...  \n",
       "3  [{'credit_id': '52fe426ec3a36847f801e14b', 'de...  \n",
       "4  [{'credit_id': '52fe424dc3a36847f80139cd', 'de...  "
      ]
     },
     "execution_count": 13,
     "metadata": {},
     "output_type": "execute_result"
    }
   ],
   "source": [
    "df.head(5)"
   ]
  },
  {
   "cell_type": "code",
   "execution_count": 14,
   "id": "cf3a2919",
   "metadata": {},
   "outputs": [],
   "source": [
    "from ast import literal_eval"
   ]
  },
  {
   "cell_type": "code",
   "execution_count": 15,
   "id": "2677e7b1",
   "metadata": {},
   "outputs": [],
   "source": [
    "df[\"director\"] = df[\"crew\"].apply(literal_eval).apply(lambda x: [i[\"name\"] for i in x if i[\"job\"]==\"Director\"])\n",
    "df[\"director\"] = df[\"director\"].apply(lambda x: ' '.join([i.replace(\" \",\"\") for i in x]))"
   ]
  },
  {
   "cell_type": "code",
   "execution_count": 16,
   "id": "01a90c82",
   "metadata": {},
   "outputs": [],
   "source": [
    "df.drop(\"crew\", axis=1, inplace=True)"
   ]
  },
  {
   "cell_type": "code",
   "execution_count": 17,
   "id": "a08a0311",
   "metadata": {},
   "outputs": [],
   "source": [
    "df[\"cast\"] = df[\"cast\"].apply(lambda x: [i[\"name\"][:5] for i in eval(x)])\n",
    "df[\"cast\"] = df[\"cast\"].apply(lambda x: ' '.join([i.replace(\" \",\"\") for i in x]))"
   ]
  },
  {
   "cell_type": "code",
   "execution_count": 18,
   "id": "7d7e9095",
   "metadata": {},
   "outputs": [],
   "source": [
    "#add overview, genres, original_title, keywords, cast , and director column 3 times to put more emphasis on director's role\n",
    "df[\"tags\"] = df[\"overview\"] + \" \" + df[\"genres\"] + \" \" + df[\"original_title\"] + \" \" + df[\"keywords\"] + \" \" + df[\"cast\"] + \" \" + df[\"director\"] + \" \" +  df[\"director\"] + \" \" + df[\"director\"]"
   ]
  },
  {
   "cell_type": "code",
   "execution_count": 19,
   "id": "3a9f1fc6",
   "metadata": {},
   "outputs": [
    {
     "data": {
      "text/plain": [
       "\"Led by Woody, Andy's toys live happily in his room until Andy's birthday brings Buzz Lightyear onto the scene. Afraid of losing his place in Andy's heart, Woody plots against Buzz. But when circumstances separate Buzz and Woody from their owner, the duo eventually learns to put aside their differences. Animation Comedy Family Toy Story jealousy toy boy friendship friends rivalry boynextdoor newtoy toycomestolife TomH TimA DonR JimV Walla John Annie John Erik Lauri R.Le Sarah Penn JohnLasseter JohnLasseter JohnLasseter\""
      ]
     },
     "execution_count": 19,
     "metadata": {},
     "output_type": "execute_result"
    }
   ],
   "source": [
    "df[\"tags\"][0]"
   ]
  },
  {
   "cell_type": "code",
   "execution_count": 20,
   "id": "7abafa35",
   "metadata": {},
   "outputs": [
    {
     "data": {
      "text/html": [
       "<div>\n",
       "<style scoped>\n",
       "    .dataframe tbody tr th:only-of-type {\n",
       "        vertical-align: middle;\n",
       "    }\n",
       "\n",
       "    .dataframe tbody tr th {\n",
       "        vertical-align: top;\n",
       "    }\n",
       "\n",
       "    .dataframe thead th {\n",
       "        text-align: right;\n",
       "    }\n",
       "</style>\n",
       "<table border=\"1\" class=\"dataframe\">\n",
       "  <thead>\n",
       "    <tr style=\"text-align: right;\">\n",
       "      <th></th>\n",
       "      <th>id</th>\n",
       "      <th>genres</th>\n",
       "      <th>title</th>\n",
       "      <th>director</th>\n",
       "      <th>tags</th>\n",
       "    </tr>\n",
       "  </thead>\n",
       "  <tbody>\n",
       "    <tr>\n",
       "      <th>0</th>\n",
       "      <td>862</td>\n",
       "      <td>Animation Comedy Family</td>\n",
       "      <td>Toy Story</td>\n",
       "      <td>JohnLasseter</td>\n",
       "      <td>Led by Woody, Andy's toys live happily in his ...</td>\n",
       "    </tr>\n",
       "    <tr>\n",
       "      <th>1</th>\n",
       "      <td>8844</td>\n",
       "      <td>Adventure Fantasy Family</td>\n",
       "      <td>Jumanji</td>\n",
       "      <td>JoeJohnston</td>\n",
       "      <td>When siblings Judy and Peter discover an encha...</td>\n",
       "    </tr>\n",
       "    <tr>\n",
       "      <th>2</th>\n",
       "      <td>949</td>\n",
       "      <td>Action Crime Drama Thriller</td>\n",
       "      <td>Heat</td>\n",
       "      <td>MichaelMann</td>\n",
       "      <td>Obsessive master thief, Neil McCauley leads a ...</td>\n",
       "    </tr>\n",
       "    <tr>\n",
       "      <th>3</th>\n",
       "      <td>710</td>\n",
       "      <td>Adventure Action Thriller</td>\n",
       "      <td>GoldenEye</td>\n",
       "      <td>MartinCampbell</td>\n",
       "      <td>James Bond must unmask the mysterious head of ...</td>\n",
       "    </tr>\n",
       "    <tr>\n",
       "      <th>4</th>\n",
       "      <td>524</td>\n",
       "      <td>Drama Crime</td>\n",
       "      <td>Casino</td>\n",
       "      <td>MartinScorsese</td>\n",
       "      <td>The life of the gambling paradise ‚Äì Las Vega...</td>\n",
       "    </tr>\n",
       "  </tbody>\n",
       "</table>\n",
       "</div>"
      ],
      "text/plain": [
       "     id                       genres      title        director  \\\n",
       "0   862      Animation Comedy Family  Toy Story    JohnLasseter   \n",
       "1  8844     Adventure Fantasy Family    Jumanji     JoeJohnston   \n",
       "2   949  Action Crime Drama Thriller       Heat     MichaelMann   \n",
       "3   710    Adventure Action Thriller  GoldenEye  MartinCampbell   \n",
       "4   524                  Drama Crime     Casino  MartinScorsese   \n",
       "\n",
       "                                                tags  \n",
       "0  Led by Woody, Andy's toys live happily in his ...  \n",
       "1  When siblings Judy and Peter discover an encha...  \n",
       "2  Obsessive master thief, Neil McCauley leads a ...  \n",
       "3  James Bond must unmask the mysterious head of ...  \n",
       "4  The life of the gambling paradise ‚Äì Las Vega...  "
      ]
     },
     "execution_count": 20,
     "metadata": {},
     "output_type": "execute_result"
    }
   ],
   "source": [
    "df.drop(columns=[\"overview\", \"original_title\", \"keywords\", \"cast\"], axis=1, inplace=True)\n",
    "df.head()"
   ]
  },
  {
   "cell_type": "code",
   "execution_count": 21,
   "id": "6a42adb4",
   "metadata": {},
   "outputs": [
    {
     "data": {
      "text/plain": [
       "id          0\n",
       "genres      0\n",
       "title       0\n",
       "director    0\n",
       "tags        0\n",
       "dtype: int64"
      ]
     },
     "execution_count": 21,
     "metadata": {},
     "output_type": "execute_result"
    }
   ],
   "source": [
    "df.isnull().sum()"
   ]
  },
  {
   "cell_type": "code",
   "execution_count": 22,
   "id": "3417cec1",
   "metadata": {},
   "outputs": [],
   "source": [
    "df.drop_duplicates(inplace=True)"
   ]
  },
  {
   "cell_type": "code",
   "execution_count": 23,
   "id": "269aa833",
   "metadata": {},
   "outputs": [],
   "source": [
    "tfidf = TfidfVectorizer(analyzer='word',ngram_range=(1, 2),min_df=0, stop_words='english')\n",
    "vectorized_df = tfidf.fit_transform(df[\"tags\"])"
   ]
  },
  {
   "cell_type": "code",
   "execution_count": 24,
   "id": "a5bf59c5",
   "metadata": {},
   "outputs": [
    {
     "data": {
      "text/plain": [
       "(1699, 139064)"
      ]
     },
     "execution_count": 24,
     "metadata": {},
     "output_type": "execute_result"
    }
   ],
   "source": [
    "vectorized_df.shape"
   ]
  },
  {
   "cell_type": "code",
   "execution_count": 25,
   "id": "a119ac0e",
   "metadata": {},
   "outputs": [],
   "source": [
    "cosine_sim = cosine_similarity(vectorized_df)"
   ]
  },
  {
   "cell_type": "code",
   "execution_count": 26,
   "id": "381a637b",
   "metadata": {},
   "outputs": [
    {
     "data": {
      "text/plain": [
       "array([[1.        , 0.00778013, 0.        , ..., 0.        , 0.0025239 ,\n",
       "        0.01334829],\n",
       "       [0.00778013, 1.        , 0.00977925, ..., 0.01320638, 0.0024184 ,\n",
       "        0.00442256],\n",
       "       [0.        , 0.00977925, 1.        , ..., 0.00485414, 0.00985989,\n",
       "        0.01010123],\n",
       "       ...,\n",
       "       [0.        , 0.01320638, 0.00485414, ..., 1.        , 0.02800013,\n",
       "        0.00699531],\n",
       "       [0.0025239 , 0.0024184 , 0.00985989, ..., 0.02800013, 1.        ,\n",
       "        0.00905847],\n",
       "       [0.01334829, 0.00442256, 0.01010123, ..., 0.00699531, 0.00905847,\n",
       "        1.        ]])"
      ]
     },
     "execution_count": 26,
     "metadata": {},
     "output_type": "execute_result"
    }
   ],
   "source": [
    "cosine_sim "
   ]
  },
  {
   "cell_type": "code",
   "execution_count": 27,
   "id": "890481b3",
   "metadata": {},
   "outputs": [],
   "source": [
    "def recommendation_title(title):\n",
    "    id_recom = df[df[\"title\"]==title].index[0]\n",
    "    distances = cosine_sim[id_recom]\n",
    "    top_list = sorted(list(enumerate(distances)), reverse=True, key=lambda x:x[1])[1:6]\n",
    "    movie_list = []\n",
    "    ids = []\n",
    "    for i in top_list:\n",
    "        movie_list.append(df.iloc[i[0]].title)\n",
    "        ids.append(df.iloc[i[0]].id)\n",
    "    return movie_list"
   ]
  },
  {
   "cell_type": "code",
   "execution_count": 28,
   "id": "b9dc753a",
   "metadata": {},
   "outputs": [
    {
     "data": {
      "text/plain": [
       "['Toy Story 2', 'Toy Story 3', \"A Bug's Life\", 'Cars', 'Cars 2']"
      ]
     },
     "execution_count": 28,
     "metadata": {},
     "output_type": "execute_result"
    }
   ],
   "source": [
    "recommendation_title(\"Toy Story\")"
   ]
  },
  {
   "cell_type": "code",
   "execution_count": 29,
   "id": "f0577133",
   "metadata": {},
   "outputs": [],
   "source": [
    "def recommendation_genre(genre):\n",
    "    id_recom = df[df[\"genres\"]==genre].index[0]\n",
    "    distances = cosine_sim[id_recom]\n",
    "    top_list = sorted(list(enumerate(distances)), reverse=True, key=lambda x:x[1])[1:6]\n",
    "    movie_list = []\n",
    "    ids = []\n",
    "    for i in top_list:\n",
    "        movie_list.append(df.iloc[i[0]].title)\n",
    "        ids.append(df.iloc[i[0]].id)\n",
    "    return movie_list"
   ]
  },
  {
   "cell_type": "code",
   "execution_count": 30,
   "id": "c032dad6",
   "metadata": {},
   "outputs": [
    {
     "data": {
      "text/plain": [
       "['Waterworld',\n",
       " 'Robin Hood',\n",
       " 'Robin Hood',\n",
       " 'Tomorrow Never Dies',\n",
       " 'Rogue One: A Star Wars Story']"
      ]
     },
     "execution_count": 30,
     "metadata": {},
     "output_type": "execute_result"
    }
   ],
   "source": [
    "recommendation_genre(\"Adventure\")"
   ]
  },
  {
   "cell_type": "code",
   "execution_count": 31,
   "id": "970b55fe",
   "metadata": {},
   "outputs": [],
   "source": [
    "def recommendation_director(director):\n",
    "    id_recom = df[df[\"director\"]==director].index[0]\n",
    "    distances = cosine_sim[id_recom]\n",
    "    top_list = sorted(list(enumerate(distances)), reverse=True, key=lambda x:x[1])[1:6]\n",
    "    movie_list = []\n",
    "    ids = []\n",
    "    for i in top_list:\n",
    "        movie_list.append(df.iloc[i[0]].title)\n",
    "        ids.append(df.iloc[i[0]].id)\n",
    "    return movie_list"
   ]
  },
  {
   "cell_type": "code",
   "execution_count": 32,
   "id": "4a3880e5",
   "metadata": {},
   "outputs": [
    {
     "data": {
      "text/plain": [
       "['The Prince of Egypt',\n",
       " 'Hot Tub Time Machine',\n",
       " 'Cloud Atlas',\n",
       " 'Back to the Future Part III',\n",
       " 'Men in Black 3']"
      ]
     },
     "execution_count": 32,
     "metadata": {},
     "output_type": "execute_result"
    }
   ],
   "source": [
    "recommendation_director(\"SimonWells\")"
   ]
  },
  {
   "cell_type": "code",
   "execution_count": 33,
   "id": "e77fb10a",
   "metadata": {},
   "outputs": [],
   "source": [
    "import pickle"
   ]
  },
  {
   "cell_type": "code",
   "execution_count": 34,
   "id": "caa37a85",
   "metadata": {},
   "outputs": [],
   "source": [
    "pickle.dump(df.to_dict(),open('movies.pkl','wb'))"
   ]
  },
  {
   "cell_type": "code",
   "execution_count": 35,
   "id": "1fec678d",
   "metadata": {},
   "outputs": [],
   "source": [
    "pickle.dump(cosine_sim,open('similarity.pkl','wb'))"
   ]
  },
  {
   "cell_type": "code",
   "execution_count": 36,
   "id": "5cbd6d11",
   "metadata": {},
   "outputs": [
    {
     "data": {
      "text/plain": [
       "['Toy Story 2', 'Toy Story 3', \"A Bug's Life\", 'Cars', 'Cars 2']"
      ]
     },
     "execution_count": 36,
     "metadata": {},
     "output_type": "execute_result"
    }
   ],
   "source": [
    "recommendation_title(\"Toy Story\")"
   ]
  },
  {
   "cell_type": "code",
   "execution_count": 38,
   "id": "fd1f3f5b",
   "metadata": {},
   "outputs": [
    {
     "data": {
      "text/plain": [
       "['Grown Ups',\n",
       " 'Big Daddy',\n",
       " 'Jack and Jill',\n",
       " 'Just Go with It',\n",
       " 'I Now Pronounce You Chuck & Larry']"
      ]
     },
     "execution_count": 38,
     "metadata": {},
     "output_type": "execute_result"
    }
   ],
   "source": [
    "recommendation_genre(\"Comedy\")"
   ]
  },
  {
   "cell_type": "code",
   "execution_count": 39,
   "id": "7b436f81",
   "metadata": {},
   "outputs": [
    {
     "data": {
      "text/plain": [
       "['The Prince of Egypt',\n",
       " 'Hot Tub Time Machine',\n",
       " 'Cloud Atlas',\n",
       " 'Back to the Future Part III',\n",
       " 'Men in Black 3']"
      ]
     },
     "execution_count": 39,
     "metadata": {},
     "output_type": "execute_result"
    }
   ],
   "source": [
    "recommendation_director(\"SimonWells\")"
   ]
  },
  {
   "cell_type": "code",
   "execution_count": null,
   "id": "037421c7",
   "metadata": {},
   "outputs": [],
   "source": []
  }
 ],
 "metadata": {
  "kernelspec": {
   "display_name": "Python 3 (engineering)",
   "language": "python",
   "name": "engineering"
  },
  "language_info": {
   "codemirror_mode": {
    "name": "ipython",
    "version": 3
   },
   "file_extension": ".py",
   "mimetype": "text/x-python",
   "name": "python",
   "nbconvert_exporter": "python",
   "pygments_lexer": "ipython3",
   "version": "3.9.13"
  }
 },
 "nbformat": 4,
 "nbformat_minor": 5
}
